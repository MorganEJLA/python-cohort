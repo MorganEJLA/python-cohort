{
  "nbformat": 4,
  "nbformat_minor": 0,
  "metadata": {
    "colab": {
      "name": "BLANK_GDI_Python1_Class2",
      "provenance": [],
      "collapsed_sections": [],
      "include_colab_link": true
    },
    "kernelspec": {
      "name": "python3",
      "display_name": "Python 3"
    },
    "language_info": {
      "name": "python"
    }
  },
  "cells": [
    {
      "cell_type": "markdown",
      "metadata": {
        "id": "view-in-github",
        "colab_type": "text"
      },
      "source": [
        "<a href=\"https://colab.research.google.com/github/MorganEJLA/python-cohort/blob/main/BLANK_GDI_Python1_Class2.ipynb\" target=\"_parent\"><img src=\"https://colab.research.google.com/assets/colab-badge.svg\" alt=\"Open In Colab\"/></a>"
      ]
    },
    {
      "cell_type": "markdown",
      "source": [
        "# **Review data types**\n",
        "\n",
        "Integers, floats, strings..."
      ],
      "metadata": {
        "id": "sYcgPgJb9MIh"
      }
    },
    {
      "cell_type": "code",
      "source": [
        ""
      ],
      "metadata": {
        "id": "3GzwtbwY9UHg"
      },
      "execution_count": null,
      "outputs": []
    },
    {
      "cell_type": "markdown",
      "source": [
        "# **Mathematical operators**\n",
        "\n",
        "* `+` add\n",
        "* `-` subtract\n",
        "* `*` multiply\n",
        "* `**` exponent\n",
        "* `/` divide \n",
        "* `%` modulo "
      ],
      "metadata": {
        "id": "C-0LwzrXDEGj"
      }
    },
    {
      "cell_type": "code",
      "source": [
        "print(4%4\n",
        "      \n",
        "      )"
      ],
      "metadata": {
        "id": "vr9NCDJ0yFnX",
        "colab": {
          "base_uri": "https://localhost:8080/"
        },
        "outputId": "c5c9dede-fa01-44f7-e2aa-8445a594d715"
      },
      "execution_count": 3,
      "outputs": [
        {
          "output_type": "stream",
          "name": "stdout",
          "text": [
            "0\n"
          ]
        }
      ]
    },
    {
      "cell_type": "markdown",
      "source": [
        "# **Augmented expressions**\n",
        "\n",
        "* `+=` \n",
        "* `-=`\n",
        "* `*=`\n",
        "* `/=`\n",
        "\n",
        "\n",
        "\n",
        "\n",
        "\n",
        "\n"
      ],
      "metadata": {
        "id": "ii8349AKDwlO"
      }
    },
    {
      "cell_type": "code",
      "source": [
        ""
      ],
      "metadata": {
        "id": "6pPoFfglvHTu"
      },
      "execution_count": null,
      "outputs": []
    },
    {
      "cell_type": "code",
      "source": [
        ""
      ],
      "metadata": {
        "id": "JE4OoKsKvGiW"
      },
      "execution_count": null,
      "outputs": []
    },
    {
      "cell_type": "code",
      "source": [
        "#x = x + 1 is the same thing as x += 1\n",
        "\n",
        "\n",
        "start += 1\n",
        "print(start)"
      ],
      "metadata": {
        "id": "o9tQihioEoNg",
        "colab": {
          "base_uri": "https://localhost:8080/"
        },
        "outputId": "d08a2aa5-e1b9-45ca-f4c0-9169cf804f5e"
      },
      "execution_count": 12,
      "outputs": [
        {
          "output_type": "stream",
          "name": "stdout",
          "text": [
            "1\n"
          ]
        }
      ]
    },
    {
      "cell_type": "markdown",
      "source": [
        "# **Tip calculator**\n",
        "\n",
        "**Level 1**\n",
        "\n",
        "Create a function that will add a 20% tip to your bill. \n",
        "This function will take one argument, the total of your bill before tip, and should return the total cost after you add 20% tip. \n",
        "\n",
        "*Note: 20% can be represented as .20 or (20/100).*\n",
        "\n",
        "**Level 2**\n",
        "\n",
        "Add a new feature of your function that can take another argument with the number of people you want to split the bill with. The function should return the total cost for each person (after tip, of course!) \n",
        "\n",
        "**Level 3**\n",
        "\n",
        "Use an augmented expression in your function. \n",
        "\n",
        "**Level 4**\n",
        "\n",
        "Add a new argument where you can specify the tip amount. Set the default to 20%. \n",
        "\n",
        "\n",
        "\n",
        "\n",
        "\n",
        "\n",
        "\n"
      ],
      "metadata": {
        "id": "d-s4Nd3tamzF"
      }
    },
    {
      "cell_type": "code",
      "source": [
        "def tip_calc(bill,n):\n",
        "    tip = bill * .20\n",
        "    total = bill + tip\n",
        "    each = total/n\n",
        "    return(each)\n",
        "tip_calc(100,6)\n"
      ],
      "metadata": {
        "id": "2B5W5xtZ-pK2",
        "colab": {
          "base_uri": "https://localhost:8080/"
        },
        "outputId": "768b7d38-c57e-4120-9f53-c843e86ccbe1"
      },
      "execution_count": 27,
      "outputs": [
        {
          "output_type": "execute_result",
          "data": {
            "text/plain": [
              "20.0"
            ]
          },
          "metadata": {},
          "execution_count": 27
        }
      ]
    },
    {
      "cell_type": "code",
      "source": [
        "\n",
        "\n",
        "\n",
        "\n",
        "\n",
        "\n",
        "\n",
        "\n",
        "\n",
        "\n",
        "\n",
        "\n",
        "\n"
      ],
      "metadata": {
        "id": "345474_i-pdu"
      },
      "execution_count": 21,
      "outputs": []
    },
    {
      "cell_type": "markdown",
      "source": [
        "# **Lists, lists, lists...**\n",
        "\n",
        "A new variable type. "
      ],
      "metadata": {
        "id": "tF4v9anTeb10"
      }
    },
    {
      "cell_type": "code",
      "source": [
        "week = [\"Mon\", \"Tue\", \"Wed\", \"Thu\", \"Fri\"]\n",
        "\n"
      ],
      "metadata": {
        "id": "qIpcfb0KL2C-"
      },
      "execution_count": null,
      "outputs": []
    },
    {
      "cell_type": "code",
      "source": [
        "#how many elements are in the list week? \n"
      ],
      "metadata": {
        "id": "BUqolWHCM3dC"
      },
      "execution_count": null,
      "outputs": []
    },
    {
      "cell_type": "code",
      "source": [
        "week = [\"Mon\", \"Tue\", \"Wed\", \"Thu\", \"Fri\", [\"Sat\", \"Sun\"]]\n"
      ],
      "metadata": {
        "colab": {
          "base_uri": "https://localhost:8080/"
        },
        "outputId": "29e895c1-10de-4d0b-cdf8-4e1141541670",
        "id": "27NW5ZgoNCRD"
      },
      "execution_count": null,
      "outputs": [
        {
          "output_type": "stream",
          "name": "stdout",
          "text": [
            "Sun\n"
          ]
        }
      ]
    },
    {
      "cell_type": "code",
      "source": [
        "#add a new day to the typical 7-day work week\n"
      ],
      "metadata": {
        "id": "GYQMR0XsPQWD"
      },
      "execution_count": null,
      "outputs": []
    },
    {
      "cell_type": "code",
      "source": [
        "#remove an element from the list\n"
      ],
      "metadata": {
        "id": "Y3Ku5Puz_Sl1"
      },
      "execution_count": null,
      "outputs": []
    },
    {
      "cell_type": "markdown",
      "source": [
        "Create a list of your favorite things.\n",
        "\n",
        "* Favorite color. \n",
        "* Favorite number. \n",
        "* Favorite movie. "
      ],
      "metadata": {
        "id": "0O0-gWBli4Wg"
      }
    },
    {
      "cell_type": "code",
      "source": [
        ""
      ],
      "metadata": {
        "id": "eaQLlEfP_lgU"
      },
      "execution_count": null,
      "outputs": []
    },
    {
      "cell_type": "markdown",
      "source": [
        "Create a list of your friend's favorite things. \n",
        "\n",
        "* Their favorite color.\n",
        "* Their favorite number.\n",
        "* Their favorite movie.\n",
        "\n",
        "Nest these two lists into a new list. What is the length of this new list?\n",
        "\n",
        "Use indexing to print your favorite movie and your friend's favorite number. "
      ],
      "metadata": {
        "id": "wRzJyT5qjJgt"
      }
    },
    {
      "cell_type": "code",
      "source": [
        ""
      ],
      "metadata": {
        "id": "a3sSEpZq_l4q"
      },
      "execution_count": null,
      "outputs": []
    },
    {
      "cell_type": "markdown",
      "source": [
        "Add your favorite food to your list.\n",
        " \n",
        "Change your friend's favorite movie to \"Snakes on a Plane\". "
      ],
      "metadata": {
        "id": "I1oqLIFBlY5W"
      }
    },
    {
      "cell_type": "code",
      "source": [
        ""
      ],
      "metadata": {
        "id": "YPlc19m2_me4"
      },
      "execution_count": null,
      "outputs": []
    },
    {
      "cell_type": "markdown",
      "source": [
        "# **ANOTHER value type: Booleans!**\n"
      ],
      "metadata": {
        "id": "rn5ZFp2QlnAR"
      }
    },
    {
      "cell_type": "code",
      "source": [
        ""
      ],
      "metadata": {
        "id": "0_O9Pr3N_7DJ"
      },
      "execution_count": null,
      "outputs": []
    },
    {
      "cell_type": "code",
      "source": [
        "\n",
        "\n",
        "\n",
        "\n",
        "\n",
        "\n",
        "\n",
        "\n",
        "\n",
        "\n",
        "\n",
        "\n",
        "\n",
        "\n"
      ],
      "metadata": {
        "id": "ZrGUhnG2_7J5"
      },
      "execution_count": null,
      "outputs": []
    },
    {
      "cell_type": "markdown",
      "source": [
        "Comparison operators\n",
        "\n",
        "* Equal to `==` \n",
        "* Not equal to `!=` \n",
        "* Greater than `>` \n",
        "* Less than `<` \n",
        "* Greater than or equal to `>=` \n",
        "* Less than or equal to `<=` "
      ],
      "metadata": {
        "id": "vbRirO3alxMb"
      }
    },
    {
      "cell_type": "code",
      "source": [
        "south_pole = -51\n",
        "north_pole = 32"
      ],
      "metadata": {
        "id": "F_fj24fRAdem"
      },
      "execution_count": null,
      "outputs": []
    },
    {
      "cell_type": "markdown",
      "source": [
        "# **Logical operators**\n",
        "\n",
        "* `AND` \n",
        "* `OR` \n",
        "* `NOT`\n",
        "\n",
        "Membership operators:\n",
        "* `in`\n",
        "* `not in`\n",
        "\n"
      ],
      "metadata": {
        "id": "g3RhemK_uCNa"
      }
    },
    {
      "cell_type": "code",
      "source": [
        "#is one of the temps below zero?\n",
        "#are both of the temps below zero?\n"
      ],
      "metadata": {
        "id": "0HD5GMZcWWq9"
      },
      "execution_count": null,
      "outputs": []
    },
    {
      "cell_type": "code",
      "source": [
        "#membership in strings and lists\n"
      ],
      "metadata": {
        "id": "Eq8Js69VBpGD"
      },
      "execution_count": null,
      "outputs": []
    },
    {
      "cell_type": "markdown",
      "source": [
        "# **If, else statements**\n",
        "\n",
        "Let's get our code to make some decisions... "
      ],
      "metadata": {
        "id": "D5AVbKgtv-us"
      }
    },
    {
      "cell_type": "code",
      "source": [
        "if ########: #if True\n",
        "  #####\n",
        "  ###\n",
        "  #####\n",
        "  ####\n",
        "else: #If False\n",
        "  #  #\n",
        "  #####\n",
        "  ######\n",
        "  #####"
      ],
      "metadata": {
        "id": "eEXRVbuoZtf7"
      },
      "execution_count": null,
      "outputs": []
    },
    {
      "cell_type": "code",
      "source": [
        "#etsy store inventory\n"
      ],
      "metadata": {
        "id": "ksHjYR75aB6V"
      },
      "execution_count": null,
      "outputs": []
    },
    {
      "cell_type": "markdown",
      "source": [
        "\n",
        "# **Putting it all together: Who can ride the coaster?**\n",
        "\n",
        "You've been commissioned by the local amusement park to create a computer system that can check if a park-goer is allowed to ride the rollercoasters. \n",
        "The park owner let's you know that all rollercoaster riders must be 5 years or older and at least 48 inches tall. \n",
        "\n",
        "Create a function that takes a visitor's age and height (in feet and inches) and returns whether they can ride the rollercoasters at the park. \n",
        "\n",
        "Note:Height in inches = (Feet*12) + Inches\n",
        "\n"
      ],
      "metadata": {
        "id": "vfAO_RvHly4e"
      }
    },
    {
      "cell_type": "code",
      "source": [
        " "
      ],
      "metadata": {
        "id": "YqK-42m0eh-N"
      },
      "execution_count": null,
      "outputs": []
    },
    {
      "cell_type": "markdown",
      "source": [
        "The park-owner comes back and says they are adding a new rule where children 4 and older can ride rollercoasters if they have an adult with them (you can ignore the child's height for this rule). \n",
        "Add this new information to your function. "
      ],
      "metadata": {
        "id": "VSQy5VCFrh-s"
      }
    },
    {
      "cell_type": "code",
      "source": [
        ""
      ],
      "metadata": {
        "id": "JP2fTtbUmMMX"
      },
      "execution_count": null,
      "outputs": []
    }
  ]
}